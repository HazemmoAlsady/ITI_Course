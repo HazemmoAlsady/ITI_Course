{
  "cells": [
    {
      "cell_type": "markdown",
      "metadata": {
        "id": "view-in-github",
        "colab_type": "text"
      },
      "source": [
        "<a href=\"https://colab.research.google.com/github/HazemmoAlsady/ITI_Course/blob/main/Pandas%2BPractice.ipynb\" target=\"_parent\"><img src=\"https://colab.research.google.com/assets/colab-badge.svg\" alt=\"Open In Colab\"/></a>"
      ]
    },
    {
      "cell_type": "markdown",
      "metadata": {
        "collapsed": true,
        "jupyter": {
          "outputs_hidden": true
        },
        "id": "Hzwv1-CSKgLt"
      },
      "source": [
        "# Part 1"
      ]
    },
    {
      "cell_type": "markdown",
      "metadata": {
        "id": "eU4NC_aCKgLx"
      },
      "source": [
        "The file \"Purchase_Data.csv\" contains purchase data at a Chinese supermarket for various products.  Read this csv into a dataframe called df_data and use the head() method to check that you have read in the data correctly. Make sure you import pandas."
      ]
    },
    {
      "cell_type": "code",
      "execution_count": 10,
      "metadata": {
        "jupyter": {
          "outputs_hidden": false
        },
        "colab": {
          "base_uri": "https://localhost:8080/"
        },
        "id": "MJCfFvLJKgLz",
        "outputId": "dcafe70a-6890-428d-e2af-e6bdb67dfb47"
      },
      "outputs": [
        {
          "output_type": "stream",
          "name": "stdout",
          "text": [
            "Drive already mounted at /content/drive; to attempt to forcibly remount, call drive.mount(\"/content/drive\", force_remount=True).\n",
            "CSV file loaded successfully! Here are the first few rows:\n",
            "   invoice_number   invoice_time store_id  product_id  category_id  num_item  \\\n",
            "0    2.020000e+11  7/15/15 10:45     G816     7000300       210101       1.0   \n",
            "1    2.020000e+11  7/15/15 12:16     G816     7070884        70203       1.0   \n",
            "2    2.020000e+11  7/15/15 12:16     G816     7070884        70203       1.0   \n",
            "3    2.020000e+11  7/15/15 12:16     G816     7070891        70401       1.0   \n",
            "4    2.020000e+11  7/15/15 12:16     G816     7090363        70401       1.0   \n",
            "\n",
            "   price  \n",
            "0    2.0  \n",
            "1    2.0  \n",
            "2    2.0  \n",
            "3    6.0  \n",
            "4    6.0  \n"
          ]
        }
      ],
      "source": [
        "# Step 1: Mount Google Drive\n",
        "from google.colab import drive\n",
        "drive.mount('/content/drive')\n",
        "\n",
        "# Step 2: Import pandas\n",
        "import pandas as pd\n",
        "import numpy as np\n",
        "\n",
        "file_path = '/content/drive/MyDrive/Purchase_Data.csv'\n",
        "df_data = pd.read_csv(file_path)\n",
        "\n",
        "\n",
        "print(\"CSV file loaded successfully! Here are the first few rows:\")\n",
        "print(df_data.head())"
      ]
    },
    {
      "cell_type": "markdown",
      "metadata": {
        "id": "TAjVRMyFKgL1"
      },
      "source": [
        "Use the dtypes attribute to view how each column is stored"
      ]
    },
    {
      "cell_type": "code",
      "execution_count": 11,
      "metadata": {
        "jupyter": {
          "outputs_hidden": false
        },
        "id": "kWh0toT6KgL2",
        "colab": {
          "base_uri": "https://localhost:8080/"
        },
        "outputId": "fd2e1191-a227-4c58-8195-6261cd153596"
      },
      "outputs": [
        {
          "output_type": "stream",
          "name": "stdout",
          "text": [
            "Column data types:\n",
            "invoice_number    float64\n",
            "invoice_time       object\n",
            "store_id           object\n",
            "product_id          int64\n",
            "category_id         int64\n",
            "num_item          float64\n",
            "price             float64\n",
            "dtype: object\n"
          ]
        }
      ],
      "source": [
        "#Write your code here\n",
        "print(\"Column data types:\")\n",
        "print(df_data.dtypes)"
      ]
    },
    {
      "cell_type": "markdown",
      "metadata": {
        "id": "EU19SB6hKgL3"
      },
      "source": [
        "Slice the first two columns using .loc and store the result in a variable called result_1."
      ]
    },
    {
      "cell_type": "code",
      "execution_count": 12,
      "metadata": {
        "jupyter": {
          "outputs_hidden": false
        },
        "id": "6borNDKDKgL3",
        "colab": {
          "base_uri": "https://localhost:8080/"
        },
        "outputId": "ab459987-8b36-4b18-c7a0-48a08cc5303e"
      },
      "outputs": [
        {
          "output_type": "stream",
          "name": "stdout",
          "text": [
            "   invoice_number   invoice_time\n",
            "0    2.020000e+11  7/15/15 10:45\n",
            "1    2.020000e+11  7/15/15 12:16\n",
            "2    2.020000e+11  7/15/15 12:16\n",
            "3    2.020000e+11  7/15/15 12:16\n",
            "4    2.020000e+11  7/15/15 12:16\n"
          ]
        }
      ],
      "source": [
        "#Write you code here\n",
        "result_1 = df_data.loc[:, ['invoice_number', 'invoice_time']]\n",
        "print(result_1.head())"
      ]
    },
    {
      "cell_type": "markdown",
      "metadata": {
        "id": "muFnRM1GKgL5"
      },
      "source": [
        "Slice the first two rows using .loc and store the result in a variable called result_2."
      ]
    },
    {
      "cell_type": "code",
      "execution_count": 13,
      "metadata": {
        "jupyter": {
          "outputs_hidden": false
        },
        "id": "yxn-ZTGWKgL6",
        "colab": {
          "base_uri": "https://localhost:8080/"
        },
        "outputId": "1ca50dd5-02a5-49dd-bb59-87ff723c11b6"
      },
      "outputs": [
        {
          "output_type": "stream",
          "name": "stdout",
          "text": [
            "   invoice_number   invoice_time store_id  product_id  category_id  num_item  \\\n",
            "0    2.020000e+11  7/15/15 10:45     G816     7000300       210101       1.0   \n",
            "1    2.020000e+11  7/15/15 12:16     G816     7070884        70203       1.0   \n",
            "\n",
            "   price  \n",
            "0    2.0  \n",
            "1    2.0  \n"
          ]
        }
      ],
      "source": [
        "#Write you code here\n",
        "result_2 = df_data.loc[0:1, :]\n",
        "print(result_2)"
      ]
    },
    {
      "cell_type": "markdown",
      "metadata": {
        "id": "UMpwjV6YKgL7"
      },
      "source": [
        "Slice the first four rows and the first five columns and store the result in a variable called result_3."
      ]
    },
    {
      "cell_type": "code",
      "execution_count": 14,
      "metadata": {
        "jupyter": {
          "outputs_hidden": false
        },
        "id": "-MmaMiyTKgL8",
        "colab": {
          "base_uri": "https://localhost:8080/"
        },
        "outputId": "efb10e84-987d-4a65-aa52-4d6ff25f550c"
      },
      "outputs": [
        {
          "output_type": "stream",
          "name": "stdout",
          "text": [
            "   invoice_number   invoice_time store_id  product_id  category_id\n",
            "0    2.020000e+11  7/15/15 10:45     G816     7000300       210101\n",
            "1    2.020000e+11  7/15/15 12:16     G816     7070884        70203\n",
            "2    2.020000e+11  7/15/15 12:16     G816     7070884        70203\n",
            "3    2.020000e+11  7/15/15 12:16     G816     7070891        70401\n"
          ]
        }
      ],
      "source": [
        "#Write your code here\n",
        "result_3 = df_data.iloc[0:4, 0:5]\n",
        "print(result_3)"
      ]
    },
    {
      "cell_type": "markdown",
      "metadata": {
        "id": "Z1nQCAXmKgL9"
      },
      "source": [
        "Slice rows 0,4,6 and columns invoice time and price and store the result in variable called result_4."
      ]
    },
    {
      "cell_type": "code",
      "execution_count": 15,
      "metadata": {
        "jupyter": {
          "outputs_hidden": false
        },
        "id": "BGg9C-mBKgMC",
        "colab": {
          "base_uri": "https://localhost:8080/"
        },
        "outputId": "26654383-556c-4afb-f432-41cee5dfe583"
      },
      "outputs": [
        {
          "output_type": "stream",
          "name": "stdout",
          "text": [
            "    invoice_time  price\n",
            "0  7/15/15 10:45    2.0\n",
            "4  7/15/15 12:16    6.0\n",
            "6  7/15/15 15:28    2.0\n"
          ]
        }
      ],
      "source": [
        "#Write your code here\n",
        "result_4 = df_data.loc[[0, 4, 6], ['invoice_time', 'price']]\n",
        "print(result_4)"
      ]
    },
    {
      "cell_type": "markdown",
      "metadata": {
        "id": "n-9DqEg1KgMC"
      },
      "source": [
        "Store the number rows in a variable called num_rows."
      ]
    },
    {
      "cell_type": "code",
      "execution_count": 16,
      "metadata": {
        "jupyter": {
          "outputs_hidden": false
        },
        "id": "N1BmnxrHKgMD",
        "colab": {
          "base_uri": "https://localhost:8080/"
        },
        "outputId": "2b5582a6-9f78-4fa6-e7d2-1595ce55d020"
      },
      "outputs": [
        {
          "output_type": "stream",
          "name": "stdout",
          "text": [
            "Number of rows: 5382\n"
          ]
        }
      ],
      "source": [
        "num_rows = len(df_data)\n",
        "print(\"Number of rows:\", num_rows)\n"
      ]
    },
    {
      "cell_type": "markdown",
      "metadata": {
        "id": "UBtfz1DKKgMD"
      },
      "source": [
        "Print out the last row of the data to dataframe. **Hint:** use the variable num_rows from the previous exercise."
      ]
    },
    {
      "cell_type": "code",
      "execution_count": 18,
      "metadata": {
        "jupyter": {
          "outputs_hidden": false
        },
        "id": "YUimJBQAKgME",
        "colab": {
          "base_uri": "https://localhost:8080/"
        },
        "outputId": "7c00a832-78bc-46fe-c3e0-a0edd7fa2d87"
      },
      "outputs": [
        {
          "output_type": "stream",
          "name": "stdout",
          "text": [
            "Last row:\n",
            "invoice_number    202000000000.0\n",
            "invoice_time        9/5/15 23:38\n",
            "store_id                    G619\n",
            "product_id              23030206\n",
            "category_id               210101\n",
            "num_item                     1.0\n",
            "price                        2.0\n",
            "Name: 5381, dtype: object\n"
          ]
        }
      ],
      "source": [
        "#Write your code here\n",
        "last_row = df_data.iloc[num_rows - 1]\n",
        "print(\"Last row:\")\n",
        "print(last_row)"
      ]
    },
    {
      "cell_type": "markdown",
      "metadata": {
        "id": "zqa-CSfwKgME"
      },
      "source": [
        "# Part 2"
      ]
    },
    {
      "cell_type": "markdown",
      "metadata": {
        "id": "nV_aoMazKgME"
      },
      "source": [
        "Compute the average and max price charged.  Store the results in variables called avg_price and max_price"
      ]
    },
    {
      "cell_type": "code",
      "execution_count": 20,
      "metadata": {
        "jupyter": {
          "outputs_hidden": false
        },
        "id": "AOXcckGdKgMF",
        "colab": {
          "base_uri": "https://localhost:8080/"
        },
        "outputId": "80e19780-65b1-4944-9bab-03d6d92299d5"
      },
      "outputs": [
        {
          "output_type": "stream",
          "name": "stdout",
          "text": [
            "Average price: 3.1920522110741363\n",
            "Max price: 6.01\n"
          ]
        }
      ],
      "source": [
        "#Write your code here\n",
        "avg_price = df_data['price'].mean()\n",
        "max_price = df_data['price'].max()\n",
        "print(\"Average price:\", avg_price)\n",
        "print(\"Max price:\", max_price)"
      ]
    },
    {
      "cell_type": "markdown",
      "metadata": {
        "id": "gbVCukkKKgMF"
      },
      "source": [
        "Compute the average price and average number of items purchased with only a single call to the mean() method. Store these averages in avg_price and avg_num_items."
      ]
    },
    {
      "cell_type": "code",
      "execution_count": 21,
      "metadata": {
        "jupyter": {
          "outputs_hidden": false
        },
        "id": "s2Kqs3ItKgMG",
        "colab": {
          "base_uri": "https://localhost:8080/"
        },
        "outputId": "2e2327ba-2b77-46c3-995a-3cd3ada7ebd7"
      },
      "outputs": [
        {
          "output_type": "stream",
          "name": "stdout",
          "text": [
            "Average price: 3.1920522110741363\n",
            "Average num_item: 1.2983091787439613\n"
          ]
        }
      ],
      "source": [
        "#Write you code here\n",
        "avg_price, avg_num_items = df_data[['price', 'num_item']].mean()\n",
        "print(\"Average price:\", avg_price)\n",
        "print(\"Average num_item:\", avg_num_items)"
      ]
    },
    {
      "cell_type": "markdown",
      "metadata": {
        "id": "W2-80gu-KgMG"
      },
      "source": [
        "Create a column called \"total\", which is the product of the price and num_item columns."
      ]
    },
    {
      "cell_type": "code",
      "execution_count": 22,
      "metadata": {
        "jupyter": {
          "outputs_hidden": false
        },
        "id": "Wf9yGrx6KgMG",
        "colab": {
          "base_uri": "https://localhost:8080/"
        },
        "outputId": "9dae4350-d18d-4b8d-98bc-6ec5aa3643d3"
      },
      "outputs": [
        {
          "output_type": "stream",
          "name": "stdout",
          "text": [
            "   invoice_number   invoice_time store_id  product_id  category_id  num_item  \\\n",
            "0    2.020000e+11  7/15/15 10:45     G816     7000300       210101       1.0   \n",
            "1    2.020000e+11  7/15/15 12:16     G816     7070884        70203       1.0   \n",
            "2    2.020000e+11  7/15/15 12:16     G816     7070884        70203       1.0   \n",
            "3    2.020000e+11  7/15/15 12:16     G816     7070891        70401       1.0   \n",
            "4    2.020000e+11  7/15/15 12:16     G816     7090363        70401       1.0   \n",
            "\n",
            "   price  total  \n",
            "0    2.0    2.0  \n",
            "1    2.0    2.0  \n",
            "2    2.0    2.0  \n",
            "3    6.0    6.0  \n",
            "4    6.0    6.0  \n"
          ]
        }
      ],
      "source": [
        "#Write your code here\n",
        "df_data['total'] = df_data['price'] * df_data['num_item']\n",
        "print(df_data.head())"
      ]
    },
    {
      "cell_type": "markdown",
      "metadata": {
        "id": "Tg6xPT7eKgMG"
      },
      "source": [
        "What is the avgerage price of the three most expensive purchases?"
      ]
    },
    {
      "cell_type": "code",
      "execution_count": 23,
      "metadata": {
        "jupyter": {
          "outputs_hidden": false
        },
        "id": "6GJEvD4AKgMG",
        "colab": {
          "base_uri": "https://localhost:8080/"
        },
        "outputId": "ad7559bd-ca88-420a-a77a-d3b48be4344c"
      },
      "outputs": [
        {
          "output_type": "stream",
          "name": "stdout",
          "text": [
            "Avg price of 3 most expensive purchases: 2.0\n"
          ]
        }
      ],
      "source": [
        "#Write your code here\n",
        "top_3_total_avg = df_data.nlargest(3, 'total')['price'].mean()\n",
        "print(\"Avg price of 3 most expensive purchases:\", top_3_total_avg)"
      ]
    },
    {
      "cell_type": "markdown",
      "metadata": {
        "id": "uboFQ8qMKgMG"
      },
      "source": [
        "How many different products are there?"
      ]
    },
    {
      "cell_type": "code",
      "execution_count": 24,
      "metadata": {
        "jupyter": {
          "outputs_hidden": false
        },
        "id": "lIPJ1fJOKgMH",
        "colab": {
          "base_uri": "https://localhost:8080/"
        },
        "outputId": "8974a595-5490-4833-dc82-041bc6a9fdd9"
      },
      "outputs": [
        {
          "output_type": "stream",
          "name": "stdout",
          "text": [
            "Number of different products: 53\n"
          ]
        }
      ],
      "source": [
        "#Write your code here\n",
        "num_unique_products = df_data['product_id'].nunique()\n",
        "print(\"Number of different products:\", num_unique_products)"
      ]
    },
    {
      "cell_type": "markdown",
      "metadata": {
        "id": "-fBzruhKKgMH"
      },
      "source": [
        "Find the difference between the mean and median of the column total.  Use the describe() method and then index the dataframe it returns."
      ]
    },
    {
      "cell_type": "code",
      "execution_count": 25,
      "metadata": {
        "jupyter": {
          "outputs_hidden": false
        },
        "id": "oaBZ5A-cKgMH",
        "colab": {
          "base_uri": "https://localhost:8080/"
        },
        "outputId": "8f151324-b988-44e1-a73a-512540b1f336"
      },
      "outputs": [
        {
          "output_type": "stream",
          "name": "stdout",
          "text": [
            "Difference (mean - median) of total: 0.9318078781127839\n"
          ]
        }
      ],
      "source": [
        "#Write your code here\n",
        "desc = df_data['total'].describe()\n",
        "mean_total = desc['mean']\n",
        "median_total = desc['50%']  # median\n",
        "diff = mean_total - median_total\n",
        "print(\"Difference (mean - median) of total:\", diff)"
      ]
    },
    {
      "cell_type": "markdown",
      "metadata": {
        "id": "xrsnGe3TKgMH"
      },
      "source": [
        "Use the drop() method to delete the column total from the dataframe df_data."
      ]
    },
    {
      "cell_type": "code",
      "execution_count": 26,
      "metadata": {
        "jupyter": {
          "outputs_hidden": false
        },
        "id": "fYl8Uf18KgMI",
        "colab": {
          "base_uri": "https://localhost:8080/"
        },
        "outputId": "5697e28f-53b8-4172-cd46-34e1b7aa4d9a"
      },
      "outputs": [
        {
          "output_type": "stream",
          "name": "stdout",
          "text": [
            "Column 'total' dropped.\n"
          ]
        }
      ],
      "source": [
        "#Write your code here\n",
        "df_data = df_data.drop(columns=['total'])\n",
        "# or: df_data.drop('total', axis=1, inplace=True)\n",
        "print(\"Column 'total' dropped.\")"
      ]
    },
    {
      "cell_type": "markdown",
      "metadata": {
        "id": "YAge6Vm9KgMI"
      },
      "source": [
        "First, covert the column invoice time to a datetime column. Print out the new column types to make sure this was done correctly"
      ]
    },
    {
      "cell_type": "code",
      "execution_count": 29,
      "metadata": {
        "jupyter": {
          "outputs_hidden": false
        },
        "id": "v-a2YCRUKgMJ",
        "colab": {
          "base_uri": "https://localhost:8080/"
        },
        "outputId": "7e04bcde-2f09-4cf4-de08-0af82a336625"
      },
      "outputs": [
        {
          "output_type": "stream",
          "name": "stdout",
          "text": [
            "invoice_number           float64\n",
            "invoice_time      datetime64[ns]\n",
            "store_id                  object\n",
            "product_id                 int64\n",
            "category_id                int64\n",
            "num_item                 float64\n",
            "price                    float64\n",
            "DOW                       object\n",
            "Month                     object\n",
            "dtype: object\n"
          ]
        }
      ],
      "source": [
        "#Write your code here\n",
        "df_data['invoice_time'] = pd.to_datetime(df_data['invoice_time'], format='%m/%d/%y %H:%M')\n",
        "print(df_data.dtypes)"
      ]
    },
    {
      "cell_type": "markdown",
      "metadata": {
        "id": "fFB2uHQjKgMJ"
      },
      "source": [
        "Next, let's create columns called \"DOW\" and \"Month\", which store the corresponding weekday and month of the invoice respectively.  Print the head of the dataframe to make sure this was done correctly."
      ]
    },
    {
      "cell_type": "code",
      "execution_count": 28,
      "metadata": {
        "jupyter": {
          "outputs_hidden": false
        },
        "id": "8FmF-XFpKgMJ",
        "colab": {
          "base_uri": "https://localhost:8080/"
        },
        "outputId": "b2b83e3e-aab8-411b-97cf-b95c13280792"
      },
      "outputs": [
        {
          "output_type": "stream",
          "name": "stdout",
          "text": [
            "         invoice_time        DOW Month\n",
            "0 2015-07-15 10:45:00  Wednesday  July\n",
            "1 2015-07-15 12:16:00  Wednesday  July\n",
            "2 2015-07-15 12:16:00  Wednesday  July\n",
            "3 2015-07-15 12:16:00  Wednesday  July\n",
            "4 2015-07-15 12:16:00  Wednesday  July\n"
          ]
        }
      ],
      "source": [
        "#Write your code here\n",
        "df_data['DOW'] = df_data['invoice_time'].dt.day_name()  # e.g., Monday\n",
        "df_data['Month'] = df_data['invoice_time'].dt.month_name()\n",
        "print(df_data[['invoice_time', 'DOW', 'Month']].head())"
      ]
    },
    {
      "cell_type": "markdown",
      "metadata": {
        "id": "QpF9OEdYKgMJ"
      },
      "source": [
        "Create a variable called num_purchases_wed, which stores the number of purchases made on Wednesday?  You should use value_counts and then index the series it return."
      ]
    },
    {
      "cell_type": "code",
      "execution_count": 30,
      "metadata": {
        "jupyter": {
          "outputs_hidden": false
        },
        "id": "ktfhx136KgMX",
        "colab": {
          "base_uri": "https://localhost:8080/"
        },
        "outputId": "46395427-339c-4c6d-8d1d-4bd64f6cb55c"
      },
      "outputs": [
        {
          "output_type": "stream",
          "name": "stdout",
          "text": [
            "Number of purchases on Wednesday: 959\n"
          ]
        }
      ],
      "source": [
        "#Write your code here\n",
        "num_purchases_wed = df_data['DOW'].value_counts()['Wednesday']\n",
        "print(\"Number of purchases on Wednesday:\", num_purchases_wed)"
      ]
    },
    {
      "cell_type": "markdown",
      "metadata": {
        "id": "55ZYpG5iKgMX"
      },
      "source": [
        "# Part 3"
      ]
    },
    {
      "cell_type": "markdown",
      "metadata": {
        "id": "N2DU-cJqKgMY"
      },
      "source": [
        "In this set of practice exercises, we will be working with a demographic data regarding the passengers aboard the Titanic.  Read in the data frame and use the head() method to check that it was read in correctly."
      ]
    },
    {
      "cell_type": "code",
      "execution_count": 31,
      "metadata": {
        "jupyter": {
          "outputs_hidden": false
        },
        "id": "0vnWtiKyKgMY",
        "colab": {
          "base_uri": "https://localhost:8080/"
        },
        "outputId": "db313551-77b9-4294-adf3-72cee11992e2"
      },
      "outputs": [
        {
          "output_type": "stream",
          "name": "stdout",
          "text": [
            "Titanic data loaded:\n",
            "   PassengerId  Pclass                                          Name     Sex  \\\n",
            "0          892       3                              Kelly, Mr. James    male   \n",
            "1          893       3              Wilkes, Mrs. James (Ellen Needs)  female   \n",
            "2          894       2                     Myles, Mr. Thomas Francis    male   \n",
            "3          895       3                              Wirz, Mr. Albert    male   \n",
            "4          896       3  Hirvonen, Mrs. Alexander (Helga E Lindqvist)  female   \n",
            "\n",
            "    Age  SibSp  Parch   Ticket     Fare Cabin Embarked  \n",
            "0  34.5      0      0   330911   7.8292   NaN        Q  \n",
            "1  47.0      1      0   363272   7.0000   NaN        S  \n",
            "2  62.0      0      0   240276   9.6875   NaN        Q  \n",
            "3  27.0      0      0   315154   8.6625   NaN        S  \n",
            "4  22.0      1      1  3101298  12.2875   NaN        S  \n"
          ]
        }
      ],
      "source": [
        "#Write your code here\n",
        "titanic_path = '/content/drive/MyDrive/Titanic.csv'  # Update path if needed\n",
        "df_titanic = pd.read_csv(titanic_path)\n",
        "\n",
        "print(\"Titanic data loaded:\")\n",
        "print(df_titanic.head())"
      ]
    },
    {
      "cell_type": "markdown",
      "metadata": {
        "id": "pRIVyuQzKgMY"
      },
      "source": [
        "Use the rename method to change the column \"Name\" to \"Passenger_Name\" and the column \"Ticket\" to \"Ticket_Num\"."
      ]
    },
    {
      "cell_type": "code",
      "execution_count": 32,
      "metadata": {
        "jupyter": {
          "outputs_hidden": false
        },
        "id": "hj-ySsSeKgMY",
        "colab": {
          "base_uri": "https://localhost:8080/"
        },
        "outputId": "8f02c828-702c-4155-e855-96c7ed5873e3"
      },
      "outputs": [
        {
          "output_type": "stream",
          "name": "stdout",
          "text": [
            "Index(['PassengerId', 'Pclass', 'Passenger_Name', 'Sex', 'Age', 'SibSp',\n",
            "       'Parch', 'Ticket_Num', 'Fare', 'Cabin', 'Embarked'],\n",
            "      dtype='object')\n"
          ]
        }
      ],
      "source": [
        "#Write your code here\n",
        "df_titanic = df_titanic.rename(columns={'Name': 'Passenger_Name', 'Ticket': 'Ticket_Num'})\n",
        "print(df_titanic.columns)"
      ]
    },
    {
      "cell_type": "markdown",
      "metadata": {
        "id": "JpD45dtzKgMZ"
      },
      "source": [
        "Change the index of the df_titanic to the column PasengerID."
      ]
    },
    {
      "cell_type": "code",
      "execution_count": 33,
      "metadata": {
        "jupyter": {
          "outputs_hidden": false
        },
        "scrolled": true,
        "id": "sKgDRKb5KgMZ",
        "colab": {
          "base_uri": "https://localhost:8080/"
        },
        "outputId": "f81153ac-3fef-4d8a-d4a4-8c2af3a0292f"
      },
      "outputs": [
        {
          "output_type": "stream",
          "name": "stdout",
          "text": [
            "             Pclass                                Passenger_Name     Sex  \\\n",
            "PassengerId                                                                 \n",
            "892               3                              Kelly, Mr. James    male   \n",
            "893               3              Wilkes, Mrs. James (Ellen Needs)  female   \n",
            "894               2                     Myles, Mr. Thomas Francis    male   \n",
            "895               3                              Wirz, Mr. Albert    male   \n",
            "896               3  Hirvonen, Mrs. Alexander (Helga E Lindqvist)  female   \n",
            "\n",
            "              Age  SibSp  Parch Ticket_Num     Fare Cabin Embarked  \n",
            "PassengerId                                                         \n",
            "892          34.5      0      0     330911   7.8292   NaN        Q  \n",
            "893          47.0      1      0     363272   7.0000   NaN        S  \n",
            "894          62.0      0      0     240276   9.6875   NaN        Q  \n",
            "895          27.0      0      0     315154   8.6625   NaN        S  \n",
            "896          22.0      1      1    3101298  12.2875   NaN        S  \n"
          ]
        }
      ],
      "source": [
        "#Write your code here\n",
        "df_titanic = df_titanic.set_index('PassengerId')\n",
        "print(df_titanic.head())"
      ]
    },
    {
      "cell_type": "markdown",
      "metadata": {
        "id": "dbULs3XEKgMZ"
      },
      "source": [
        "Select the name of passenger 896"
      ]
    },
    {
      "cell_type": "code",
      "execution_count": 34,
      "metadata": {
        "jupyter": {
          "outputs_hidden": false
        },
        "id": "Je9mDcF8KgMZ",
        "colab": {
          "base_uri": "https://localhost:8080/"
        },
        "outputId": "409bc5c3-aacb-4e8d-8579-8d3f73c59339"
      },
      "outputs": [
        {
          "output_type": "stream",
          "name": "stdout",
          "text": [
            "Passenger 896 Name: Hirvonen, Mrs. Alexander (Helga E Lindqvist)\n"
          ]
        }
      ],
      "source": [
        "#Write your code here\n",
        "passenger_896_name = df_titanic.loc[896, 'Passenger_Name']\n",
        "print(\"Passenger 896 Name:\", passenger_896_name)"
      ]
    },
    {
      "cell_type": "markdown",
      "metadata": {
        "id": "fzFhqwKgKgMZ"
      },
      "source": [
        "Change the index back to row numbers but making sure that we don't lose the PassengerId column."
      ]
    },
    {
      "cell_type": "code",
      "execution_count": 35,
      "metadata": {
        "jupyter": {
          "outputs_hidden": false
        },
        "id": "4XAp74jeKgMZ",
        "colab": {
          "base_uri": "https://localhost:8080/"
        },
        "outputId": "a9b7e5e8-d764-4544-de1f-5d08e25fc3b6"
      },
      "outputs": [
        {
          "output_type": "stream",
          "name": "stdout",
          "text": [
            "   PassengerId  Pclass                                Passenger_Name     Sex  \\\n",
            "0          892       3                              Kelly, Mr. James    male   \n",
            "1          893       3              Wilkes, Mrs. James (Ellen Needs)  female   \n",
            "2          894       2                     Myles, Mr. Thomas Francis    male   \n",
            "3          895       3                              Wirz, Mr. Albert    male   \n",
            "4          896       3  Hirvonen, Mrs. Alexander (Helga E Lindqvist)  female   \n",
            "\n",
            "    Age  SibSp  Parch Ticket_Num     Fare Cabin Embarked  \n",
            "0  34.5      0      0     330911   7.8292   NaN        Q  \n",
            "1  47.0      1      0     363272   7.0000   NaN        S  \n",
            "2  62.0      0      0     240276   9.6875   NaN        Q  \n",
            "3  27.0      0      0     315154   8.6625   NaN        S  \n",
            "4  22.0      1      1    3101298  12.2875   NaN        S  \n"
          ]
        }
      ],
      "source": [
        "#Write your code here\n",
        "df_titanic = df_titanic.reset_index()\n",
        "print(df_titanic.head())"
      ]
    },
    {
      "cell_type": "markdown",
      "metadata": {
        "id": "Jd8VdQ06KgMa"
      },
      "source": [
        "How many missing entries are there in the Age column? Use the isnull() method and recall than Booleans are exactly like 1s (True) and 0s (False)."
      ]
    },
    {
      "cell_type": "code",
      "execution_count": 36,
      "metadata": {
        "jupyter": {
          "outputs_hidden": false
        },
        "id": "DXyNG2dCKgMa",
        "colab": {
          "base_uri": "https://localhost:8080/"
        },
        "outputId": "b64d8839-bda0-4985-c482-db53ec571927"
      },
      "outputs": [
        {
          "output_type": "stream",
          "name": "stdout",
          "text": [
            "Missing entries in Age: 86\n"
          ]
        }
      ],
      "source": [
        "#Write you code here\n",
        "missing_age = df_titanic['Age'].isnull().sum()\n",
        "print(\"Missing entries in Age:\", missing_age)"
      ]
    },
    {
      "cell_type": "markdown",
      "metadata": {
        "id": "UMR-4UCLKgMa"
      },
      "source": [
        "Compute the avg age of passengers ignoring the missing data."
      ]
    },
    {
      "cell_type": "code",
      "execution_count": 37,
      "metadata": {
        "jupyter": {
          "outputs_hidden": false
        },
        "id": "SOH7YXjfKgMb",
        "colab": {
          "base_uri": "https://localhost:8080/"
        },
        "outputId": "6b2e7ef5-5ab4-4c9d-a452-df572076f4be"
      },
      "outputs": [
        {
          "output_type": "stream",
          "name": "stdout",
          "text": [
            "Average age (excluding NaN): 30.272590361445783\n"
          ]
        }
      ],
      "source": [
        "#Write your code here\n",
        "avg_age = df_titanic['Age'].mean()\n",
        "print(\"Average age (excluding NaN):\", avg_age)"
      ]
    },
    {
      "cell_type": "markdown",
      "metadata": {
        "id": "UFZtYS-BKgMb"
      },
      "source": [
        "Using the fillna() method replace the missing values in the Age column with the mean."
      ]
    },
    {
      "cell_type": "code",
      "execution_count": 38,
      "metadata": {
        "jupyter": {
          "outputs_hidden": false
        },
        "id": "qCxVNxiSKgMb",
        "colab": {
          "base_uri": "https://localhost:8080/"
        },
        "outputId": "35f72361-1672-4fad-a04b-f85a1d9d891c"
      },
      "outputs": [
        {
          "output_type": "stream",
          "name": "stdout",
          "text": [
            "Missing Age values filled with mean.\n"
          ]
        }
      ],
      "source": [
        "#Write your code here\n",
        "df_titanic['Age'] = df_titanic['Age'].fillna(avg_age)\n",
        "print(\"Missing Age values filled with mean.\")"
      ]
    },
    {
      "cell_type": "markdown",
      "metadata": {
        "id": "I_s7W60MKgMb"
      },
      "source": [
        "What is the average age of the 5 oldest passengers? The reset_index method will be helpful here."
      ]
    },
    {
      "cell_type": "code",
      "execution_count": 39,
      "metadata": {
        "jupyter": {
          "outputs_hidden": false
        },
        "id": "Nz0dcp7oKgMc",
        "colab": {
          "base_uri": "https://localhost:8080/"
        },
        "outputId": "b2c8e0b6-a94b-469e-f2ac-e8085b61f4cd"
      },
      "outputs": [
        {
          "output_type": "stream",
          "name": "stdout",
          "text": [
            "Average age of 5 oldest passengers: 67.0\n"
          ]
        }
      ],
      "source": [
        "#Write your code here\n",
        "oldest_5_avg = df_titanic.nlargest(5, 'Age')['Age'].mean()\n",
        "print(\"Average age of 5 oldest passengers:\", oldest_5_avg)"
      ]
    }
  ],
  "metadata": {
    "kernelspec": {
      "display_name": "Python [conda env:base] *",
      "language": "python",
      "name": "conda-base-py"
    },
    "language_info": {
      "codemirror_mode": {
        "name": "ipython",
        "version": 3
      },
      "file_extension": ".py",
      "mimetype": "text/x-python",
      "name": "python",
      "nbconvert_exporter": "python",
      "pygments_lexer": "ipython3",
      "version": "3.12.7"
    },
    "toc": {
      "nav_menu": {
        "height": "48px",
        "width": "252px"
      },
      "number_sections": true,
      "sideBar": true,
      "skip_h1_title": false,
      "toc_cell": false,
      "toc_position": {},
      "toc_section_display": "block",
      "toc_window_display": false
    },
    "colab": {
      "provenance": [],
      "include_colab_link": true
    }
  },
  "nbformat": 4,
  "nbformat_minor": 0
}