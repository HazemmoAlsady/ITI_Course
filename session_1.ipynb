{
  "nbformat": 4,
  "nbformat_minor": 0,
  "metadata": {
    "colab": {
      "provenance": [],
      "authorship_tag": "ABX9TyPaiydRL0lOh+rBWus4yKOM",
      "include_colab_link": true
    },
    "kernelspec": {
      "name": "python3",
      "display_name": "Python 3"
    },
    "language_info": {
      "name": "python"
    }
  },
  "cells": [
    {
      "cell_type": "markdown",
      "metadata": {
        "id": "view-in-github",
        "colab_type": "text"
      },
      "source": [
        "<a href=\"https://colab.research.google.com/github/HazemmoAlsady/ITI_Course/blob/main/session_1.ipynb\" target=\"_parent\"><img src=\"https://colab.research.google.com/assets/colab-badge.svg\" alt=\"Open In Colab\"/></a>"
      ]
    },
    {
      "cell_type": "code",
      "execution_count": 18,
      "metadata": {
        "colab": {
          "base_uri": "https://localhost:8080/"
        },
        "id": "ig6C-lqSkuFi",
        "outputId": "8e42c1cc-01c6-481e-a2f4-efbdc8e54661"
      },
      "outputs": [
        {
          "output_type": "stream",
          "name": "stdout",
          "text": [
            "num1+num2 = 7\n",
            "num3-num1 = 2\n",
            "num1*num1+num3 = 14\n",
            "num1*(num2+num3) = 27\n",
            "num3/num1 = 1.6666666666666667\n",
            "num3//num1 = 1\n",
            "num3%num1 = 2\n",
            "------------------------------\n",
            "num1+num2 = 7.0\n",
            "num3-num1 = 2.0\n",
            "num1*num1+num3 = 14.0\n",
            "num1*(num2+num3) = 27.0\n",
            "num3/num1 = 1.6666666666666667\n",
            "num3//num1 = 1.0\n",
            "num3%num1 = 2.0\n"
          ]
        }
      ],
      "source": [
        "num1=3\n",
        "num2=4\n",
        "num3=5\n",
        "\n",
        "# num1+num2\n",
        "print(f'num1+num2 = {num1+num2}')\n",
        "#num3-num1\n",
        "print(f'num3-num1 = {num3-num1}')\n",
        "# num1*num1+num3\n",
        "print(f'num1*num1+num3 = {(num1*num1)+num3}')\n",
        "# num1 * (num2+num3)\n",
        "print(f'num1*(num2+num3) = {num1*(num2+num3)}')\n",
        "# num3/num1\n",
        "print(f'num3/num1 = {num3/num1}')\n",
        "# num3//num1\n",
        "print(f'num3//num1 = {num3//num1}')\n",
        "# num3%num1\n",
        "print(f'num3%num1 = {num3%num1}')\n",
        "\n",
        "print('------------------------------')\n",
        "\n",
        "#change to float\n",
        "num1=float(num1)\n",
        "num2=float(num2)\n",
        "num3=float(num3)\n",
        "\n",
        "# num1+num2\n",
        "print(f'num1+num2 = {num1+num2}')\n",
        "#num3-num1\n",
        "print(f'num3-num1 = {num3-num1}')\n",
        "# num1*num1+num3\n",
        "print(f'num1*num1+num3 = {(num1*num1)+num3}')\n",
        "# num1 * (num2+num3)\n",
        "print(f'num1*(num2+num3) = {num1*(num2+num3)}')\n",
        "# num3/num1\n",
        "print(f'num3/num1 = {num3/num1}')\n",
        "# num3//num1\n",
        "print(f'num3//num1 = {num3//num1}')\n",
        "# num3%num1\n",
        "print(f'num3%num1 = {num3%num1}')"
      ]
    },
    {
      "cell_type": "code",
      "source": [
        "x = 1\n",
        "y = 2\n",
        "z = 3\n",
        "g = 4\n",
        "\n",
        "print(f'x+y**z/g = {x+y**z/g}')\n",
        "print('y**z = {y**z}')"
      ],
      "metadata": {
        "colab": {
          "base_uri": "https://localhost:8080/"
        },
        "id": "K8shUg00nsHu",
        "outputId": "fda379eb-00dd-4046-bf1b-99ca0e5197a7"
      },
      "execution_count": 17,
      "outputs": [
        {
          "output_type": "stream",
          "name": "stdout",
          "text": [
            "x+y**z/g = 3.0\n",
            "y**z = {y**z}\n"
          ]
        }
      ]
    },
    {
      "cell_type": "code",
      "source": [
        "str_a = \"Python\"\n",
        "str_b = \"is a\"\n",
        "str_c = \"times fun language\"\n",
        "num = 1000\n",
        "\n",
        "str_ab = str_a+' '+str_b+' '+str(num)+' '+str_c\n",
        "print(str_ab)\n",
        "\n",
        "str_a10 = str_a*10\n",
        "print(str_a10)"
      ],
      "metadata": {
        "colab": {
          "base_uri": "https://localhost:8080/"
        },
        "id": "OVamX7Pao4gJ",
        "outputId": "2582d9f6-f441-4eba-f362-e459e38e7d55"
      },
      "execution_count": 23,
      "outputs": [
        {
          "output_type": "stream",
          "name": "stdout",
          "text": [
            "Python is a 1000 times fun language\n",
            "PythonPythonPythonPythonPythonPythonPythonPythonPythonPython\n"
          ]
        }
      ]
    },
    {
      "cell_type": "code",
      "source": [
        "import math\n",
        "num_1 = -5\n",
        "num_2 = 3.2\n",
        "num_3 = 5.7\n",
        "num_4 = 625\n",
        "# absolute num1\n",
        "print(abs(num_1))\n",
        "\n",
        "# round num2 & num3\n",
        "print(f'{round(num2)} and {round(num3)}')\n",
        "\n",
        "# square of num4\n",
        "print(math.sqrt(num_4))"
      ],
      "metadata": {
        "colab": {
          "base_uri": "https://localhost:8080/"
        },
        "id": "EBWyxQ1Zo4ns",
        "outputId": "91149bef-e8b6-4241-b275-56143a2edc3a"
      },
      "execution_count": 29,
      "outputs": [
        {
          "output_type": "stream",
          "name": "stdout",
          "text": [
            "5\n",
            "4 and 5\n",
            "25.0\n"
          ]
        }
      ]
    },
    {
      "cell_type": "code",
      "source": [
        "number = int(input('enter number'))\n",
        "if number %2 == 0:\n",
        "    print(f'{number} is even')\n",
        "else:\n",
        "    print(f'{number} is odd')"
      ],
      "metadata": {
        "colab": {
          "base_uri": "https://localhost:8080/"
        },
        "id": "lk0U0a3nqYDA",
        "outputId": "a4bfd686-17f2-4cf0-df89-fdacefead58a"
      },
      "execution_count": 32,
      "outputs": [
        {
          "output_type": "stream",
          "name": "stdout",
          "text": [
            "enter number-2\n",
            "-2 is even\n"
          ]
        }
      ]
    },
    {
      "cell_type": "code",
      "source": [
        "number = int(input('enter number between 0-100'))\n",
        "if number >=50:\n",
        "  print(f'{number} is pass')\n",
        "else:\n",
        "  print(f'{number} is fail')"
      ],
      "metadata": {
        "colab": {
          "base_uri": "https://localhost:8080/"
        },
        "id": "ssI4K2R-qYNw",
        "outputId": "fbbe0a85-8164-4ca4-d9f6-7ef644b86322"
      },
      "execution_count": 33,
      "outputs": [
        {
          "output_type": "stream",
          "name": "stdout",
          "text": [
            "enter number49\n",
            "49 is fail\n"
          ]
        }
      ]
    },
    {
      "cell_type": "code",
      "source": [
        "num1 = int(input('enter first number'))\n",
        "num2 = int(input('enter second number'))\n",
        "num3 = int(input('enter third number'))\n",
        "large = max(num1, num2, num3)\n",
        "print(f'the largest number is {large}')"
      ],
      "metadata": {
        "colab": {
          "base_uri": "https://localhost:8080/"
        },
        "id": "i4jLu-Egq5SR",
        "outputId": "5417ddf0-8909-4f32-e43a-ad523db28fe0"
      },
      "execution_count": 34,
      "outputs": [
        {
          "output_type": "stream",
          "name": "stdout",
          "text": [
            "enter first number1\n",
            "enter second number2\n",
            "enter third number3\n",
            "the largest number is 3\n"
          ]
        }
      ]
    },
    {
      "cell_type": "code",
      "source": [
        "for i in range(11):\n",
        "  print(i)"
      ],
      "metadata": {
        "colab": {
          "base_uri": "https://localhost:8080/"
        },
        "id": "sVAR_Gaxq5Uz",
        "outputId": "976be123-acd2-433c-f5fb-9e58deb20bcb"
      },
      "execution_count": 36,
      "outputs": [
        {
          "output_type": "stream",
          "name": "stdout",
          "text": [
            "0\n",
            "1\n",
            "2\n",
            "3\n",
            "4\n",
            "5\n",
            "6\n",
            "7\n",
            "8\n",
            "9\n",
            "10\n"
          ]
        }
      ]
    },
    {
      "cell_type": "code",
      "source": [
        "score = int(input('enter score between 0-100'))\n",
        "if score >= 90:\n",
        "  print('A')\n",
        "elif score >= 80:\n",
        "  print('B')\n",
        "elif score >= 70:\n",
        "  print('C')\n",
        "elif score >= 60:\n",
        "  print('D')\n",
        "else:\n",
        "  print('F')"
      ],
      "metadata": {
        "colab": {
          "base_uri": "https://localhost:8080/"
        },
        "id": "tml8f_cTrW2y",
        "outputId": "851eeb18-ae94-4bcc-d756-b10532adae8d"
      },
      "execution_count": 37,
      "outputs": [
        {
          "output_type": "stream",
          "name": "stdout",
          "text": [
            "enter score between 0-10085\n",
            "B\n"
          ]
        }
      ]
    },
    {
      "cell_type": "code",
      "source": [
        "number = int(input(\"Enter a number: \"))\n",
        "for i in range(11):\n",
        "  print(f'{number} * {i} = {number*i}')"
      ],
      "metadata": {
        "colab": {
          "base_uri": "https://localhost:8080/"
        },
        "id": "ZL1Fxjffrf8Y",
        "outputId": "7ed4c542-a1a2-4fed-c7f7-f2fb9a5ec42e"
      },
      "execution_count": 38,
      "outputs": [
        {
          "output_type": "stream",
          "name": "stdout",
          "text": [
            "Enter a number: 3\n",
            "3 * 0 = 0\n",
            "3 * 1 = 3\n",
            "3 * 2 = 6\n",
            "3 * 3 = 9\n",
            "3 * 4 = 12\n",
            "3 * 5 = 15\n",
            "3 * 6 = 18\n",
            "3 * 7 = 21\n",
            "3 * 8 = 24\n",
            "3 * 9 = 27\n",
            "3 * 10 = 30\n"
          ]
        }
      ]
    },
    {
      "cell_type": "code",
      "source": [
        "total=0\n",
        "for i in range(51):\n",
        "  if i %2==0:\n",
        "    total+=1\n",
        "\n",
        "print(total)"
      ],
      "metadata": {
        "colab": {
          "base_uri": "https://localhost:8080/"
        },
        "id": "8xsb3Ofzr1wx",
        "outputId": "234d0233-7a7a-43fc-baed-7c5b579a0110"
      },
      "execution_count": 40,
      "outputs": [
        {
          "output_type": "stream",
          "name": "stdout",
          "text": [
            "26\n"
          ]
        }
      ]
    },
    {
      "cell_type": "code",
      "source": [
        "number = int(input(\"Enter a number: \"))\n",
        "fact=1\n",
        "i=1\n",
        "while i<=number:\n",
        "  fact = fact*i\n",
        "  i+=1\n",
        "print(fact)"
      ],
      "metadata": {
        "colab": {
          "base_uri": "https://localhost:8080/"
        },
        "id": "-SRbG4agr155",
        "outputId": "825586bf-65ee-4dba-df43-448d833c7789"
      },
      "execution_count": 41,
      "outputs": [
        {
          "output_type": "stream",
          "name": "stdout",
          "text": [
            "Enter a number: 4\n",
            "24\n"
          ]
        }
      ]
    }
  ]
}