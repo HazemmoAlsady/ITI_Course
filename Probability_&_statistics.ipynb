{
  "nbformat": 4,
  "nbformat_minor": 0,
  "metadata": {
    "colab": {
      "provenance": [],
      "authorship_tag": "ABX9TyOTjatEd51pboWbotalCkRg",
      "include_colab_link": true
    },
    "kernelspec": {
      "name": "python3",
      "display_name": "Python 3"
    },
    "language_info": {
      "name": "python"
    }
  },
  "cells": [
    {
      "cell_type": "markdown",
      "metadata": {
        "id": "view-in-github",
        "colab_type": "text"
      },
      "source": [
        "<a href=\"https://colab.research.google.com/github/HazemmoAlsady/ITI_Course/blob/main/Probability_%26_statistics.ipynb\" target=\"_parent\"><img src=\"https://colab.research.google.com/assets/colab-badge.svg\" alt=\"Open In Colab\"/></a>"
      ]
    },
    {
      "cell_type": "code",
      "execution_count": 1,
      "metadata": {
        "colab": {
          "base_uri": "https://localhost:8080/"
        },
        "id": "T9hsRml-JUwn",
        "outputId": "5ac3af9f-d1f9-4a8a-eb15-a7a4202c7357"
      },
      "outputs": [
        {
          "output_type": "stream",
          "name": "stdout",
          "text": [
            "Manual Mean: 20.5\n",
            "NumPy Mean: 20.5\n"
          ]
        }
      ],
      "source": [
        "import numpy as np\n",
        "\n",
        "ages = [18, 21, 20, 19, 22, 23, 20, 21, 22, 19]\n",
        "\n",
        "mean_manual = sum(ages)/len(ages)\n",
        "print(\"Manual Mean:\",mean_manual)\n",
        "\n",
        "mean_numpy = np.mean(ages)\n",
        "print(\"NumPy Mean:\", mean_numpy)"
      ]
    },
    {
      "cell_type": "code",
      "source": [
        "import random\n",
        "\n",
        "random_list = random.sample(range(10, 51), 15)\n",
        "print(\"Random List:\", random_list)\n",
        "\n",
        "def find_median(lst):\n",
        "    sorted_lst = sorted(lst)\n",
        "    n = len(sorted_lst)\n",
        "    mid = n // 2\n",
        "    if n % 2 == 1:\n",
        "        return sorted_lst[mid]\n",
        "    else:\n",
        "        return (sorted_lst[mid - 1] + sorted_lst[mid]) / 2\n",
        "\n",
        "median_manual = find_median(random_list)\n",
        "print(\"Manual Median:\", median_manual)\n",
        "\n",
        "median_numpy = np.median(random_list)\n",
        "print(\"NumPy Median:\", median_numpy)"
      ],
      "metadata": {
        "colab": {
          "base_uri": "https://localhost:8080/"
        },
        "id": "-PhBm65xK5ow",
        "outputId": "9bee550e-8511-46af-b4aa-d002d2d08c4f"
      },
      "execution_count": 3,
      "outputs": [
        {
          "output_type": "stream",
          "name": "stdout",
          "text": [
            "Random List: [19, 23, 49, 34, 31, 11, 43, 28, 10, 18, 44, 26, 33, 12, 47]\n",
            "Manual Median: 28\n",
            "NumPy Median: 28.0\n"
          ]
        }
      ]
    },
    {
      "cell_type": "code",
      "source": [
        "minimum_manual = min(ages)\n",
        "maximum_manual = max(ages)\n",
        "range_manual = maximum_manual - minimum_manual\n",
        "\n",
        "print(\"Manual Minimum:\", minimum_manual)\n",
        "print(\"Manual Maximum:\", maximum_manual)\n",
        "print(\"Manual Range:\", range_manual)\n",
        "\n",
        "minimum_numpy = np.min(ages)\n",
        "maximum_numpy = np.max(ages)\n",
        "range_numpy = np.ptp(ages)\n",
        "\n",
        "print(\"NumPy Minimum:\", minimum_numpy)\n",
        "print(\"NumPy Maximum:\", maximum_numpy)\n",
        "print(\"NumPy Range:\", range_numpy)"
      ],
      "metadata": {
        "colab": {
          "base_uri": "https://localhost:8080/"
        },
        "id": "qpoBMp6GK5sb",
        "outputId": "b14f7075-340f-41c8-b658-ed6f8a0d4dbc"
      },
      "execution_count": 4,
      "outputs": [
        {
          "output_type": "stream",
          "name": "stdout",
          "text": [
            "Manual Minimum: 18\n",
            "Manual Maximum: 23\n",
            "Manual Range: 5\n",
            "NumPy Minimum: 18\n",
            "NumPy Maximum: 23\n",
            "NumPy Range: 5\n"
          ]
        }
      ]
    },
    {
      "cell_type": "code",
      "source": [
        "data = [5, 7, 3, 7, 9, 10, 15, 7]\n",
        "\n",
        "mean_data = sum(data) / len(data)\n",
        "variance_manual = sum((x - mean_data) ** 2 for x in data) / len(data)\n",
        "std_dev_manual = variance_manual ** 0.5\n",
        "\n",
        "print(\"Manual Variance:\", variance_manual)\n",
        "print(\"Manual Standard Deviation:\", std_dev_manual)\n",
        "\n",
        "variance_numpy = np.var(data)\n",
        "std_dev_numpy = np.std(data)\n",
        "\n",
        "print(\"NumPy Variance:\", variance_numpy)\n",
        "print(\"NumPy Standard Deviation:\", std_dev_numpy)"
      ],
      "metadata": {
        "colab": {
          "base_uri": "https://localhost:8080/"
        },
        "id": "2TVvdJO7K5vK",
        "outputId": "d12844de-fef4-46a9-8548-5358fa6476eb"
      },
      "execution_count": 5,
      "outputs": [
        {
          "output_type": "stream",
          "name": "stdout",
          "text": [
            "Manual Variance: 11.359375\n",
            "Manual Standard Deviation: 3.370367190678191\n",
            "NumPy Variance: 11.359375\n",
            "NumPy Standard Deviation: 3.370367190678191\n"
          ]
        }
      ]
    },
    {
      "cell_type": "code",
      "source": [
        "percentiles = np.percentile(data, [25, 50, 75])\n",
        "print(\"Percentiles (25th, 50th, 75th):\", percentiles)\n",
        "\n",
        "Q1, Q3 = np.percentile(data, [25, 75])\n",
        "IQR = Q3 - Q1\n",
        "print(\"IQR:\", IQR)"
      ],
      "metadata": {
        "colab": {
          "base_uri": "https://localhost:8080/"
        },
        "id": "4xBKbRd1K50A",
        "outputId": "8dfa16a8-e669-4dc7-e703-33e0259c6070"
      },
      "execution_count": 6,
      "outputs": [
        {
          "output_type": "stream",
          "name": "stdout",
          "text": [
            "Percentiles (25th, 50th, 75th): [6.5  7.   9.25]\n",
            "IQR: 2.75\n"
          ]
        }
      ]
    },
    {
      "cell_type": "code",
      "source": [
        "def z_score_normalization(lst):\n",
        "    mean = sum(lst) / len(lst)\n",
        "    std_dev = (sum((x - mean) ** 2 for x in lst) / len(lst)) ** 0.5\n",
        "    return [(x - mean) / std_dev for x in lst]\n",
        "\n",
        "numeric_list = [1, 2, 3, 4, 5]\n",
        "z_scores_manual = z_score_normalization(numeric_list)\n",
        "print(\"Z-Scores (Manual):\", z_scores_manual)\n",
        "\n",
        "from scipy.stats import zscore\n",
        "z_scores_scipy = zscore(numeric_list).tolist()\n",
        "print(\"Z-Scores (Scipy):\", z_scores_scipy)"
      ],
      "metadata": {
        "colab": {
          "base_uri": "https://localhost:8080/"
        },
        "id": "0h5lp3gQL9yD",
        "outputId": "3136ac03-8cdf-4148-e331-4de97d05aaeb"
      },
      "execution_count": 7,
      "outputs": [
        {
          "output_type": "stream",
          "name": "stdout",
          "text": [
            "Z-Scores (Manual): [-1.414213562373095, -0.7071067811865475, 0.0, 0.7071067811865475, 1.414213562373095]\n",
            "Z-Scores (Scipy): [-1.414213562373095, -0.7071067811865475, 0.0, 0.7071067811865475, 1.414213562373095]\n"
          ]
        }
      ]
    },
    {
      "cell_type": "code",
      "source": [
        "random_integers = random.sample(range(1, 101), 20)\n",
        "print(\"Random Integers:\", random_integers)\n",
        "\n",
        "window_size = 3\n",
        "moving_avg_manual = [\n",
        "    sum(random_integers[i : i + window_size]) / window_size\n",
        "    for i in range(len(random_integers) - window_size + 1)\n",
        "]\n",
        "print(\"Moving Average (Manual):\", moving_avg_manual)\n",
        "\n",
        "weights = np.ones(window_size) / window_size\n",
        "moving_avg_numpy = np.convolve(random_integers, weights, mode='valid')\n",
        "print(\"Moving Average (NumPy):\", moving_avg_numpy)"
      ],
      "metadata": {
        "colab": {
          "base_uri": "https://localhost:8080/"
        },
        "id": "cqzfTUj0L92b",
        "outputId": "a57972be-a7a0-4a76-9b50-8dca3dfb399d"
      },
      "execution_count": 8,
      "outputs": [
        {
          "output_type": "stream",
          "name": "stdout",
          "text": [
            "Random Integers: [14, 72, 44, 30, 27, 51, 38, 18, 80, 19, 1, 25, 84, 59, 47, 22, 94, 64, 68, 16]\n",
            "Moving Average (Manual): [43.333333333333336, 48.666666666666664, 33.666666666666664, 36.0, 38.666666666666664, 35.666666666666664, 45.333333333333336, 39.0, 33.333333333333336, 15.0, 36.666666666666664, 56.0, 63.333333333333336, 42.666666666666664, 54.333333333333336, 60.0, 75.33333333333333, 49.333333333333336]\n",
            "Moving Average (NumPy): [43.33333333 48.66666667 33.66666667 36.         38.66666667 35.66666667\n",
            " 45.33333333 39.         33.33333333 15.         36.66666667 56.\n",
            " 63.33333333 42.66666667 54.33333333 60.         75.33333333 49.33333333]\n"
          ]
        }
      ]
    },
    {
      "cell_type": "code",
      "source": [
        "outlier_list = random.sample(range(1, 51), 25) + [300, 400]\n",
        "print(\"Outlier List:\", outlier_list)\n",
        "\n",
        "Q1, Q3 = np.percentile(outlier_list, [25, 75])\n",
        "IQR = Q3 - Q1\n",
        "lower_bound = Q1 - 1.5 * IQR\n",
        "upper_bound = Q3 + 1.5 * IQR\n",
        "\n",
        "outliers = [x for x in outlier_list if x < lower_bound or x > upper_bound]\n",
        "print(\"Outliers:\", outliers)"
      ],
      "metadata": {
        "colab": {
          "base_uri": "https://localhost:8080/"
        },
        "id": "kOlk9rYpL-BN",
        "outputId": "af4f6d43-d4ec-4ba6-fcdc-ca499f77592b"
      },
      "execution_count": 10,
      "outputs": [
        {
          "output_type": "stream",
          "name": "stdout",
          "text": [
            "Outlier List: [32, 42, 7, 1, 43, 16, 38, 36, 6, 20, 49, 47, 30, 2, 29, 40, 22, 9, 50, 13, 19, 24, 18, 23, 5, 300, 400]\n",
            "Outliers: [300, 400]\n"
          ]
        }
      ]
    }
  ]
}